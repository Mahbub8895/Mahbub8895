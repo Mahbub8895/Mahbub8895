{
  "nbformat": 4,
  "nbformat_minor": 0,
  "metadata": {
    "colab": {
      "name": "image_to_canny.ipynb",
      "provenance": [],
      "collapsed_sections": [],
      "authorship_tag": "ABX9TyOx6PoXNL5mE6K5Pu2ypbRq",
      "include_colab_link": true
    },
    "kernelspec": {
      "name": "python3",
      "display_name": "Python 3"
    },
    "language_info": {
      "name": "python"
    }
  },
  "cells": [
    {
      "cell_type": "markdown",
      "metadata": {
        "id": "view-in-github",
        "colab_type": "text"
      },
      "source": [
        "<a href=\"https://colab.research.google.com/github/Mahbub8895/Mahbub8895/blob/main/image_to_canny.ipynb\" target=\"_parent\"><img src=\"https://colab.research.google.com/assets/colab-badge.svg\" alt=\"Open In Colab\"/></a>"
      ]
    },
    {
      "cell_type": "code",
      "execution_count": null,
      "metadata": {
        "colab": {
          "base_uri": "https://localhost:8080/"
        },
        "id": "5FsCO73oFhVB",
        "outputId": "5197bce3-323b-4916-e3b8-08435b6b57e6"
      },
      "outputs": [
        {
          "output_type": "stream",
          "name": "stdout",
          "text": [
            "Mounted at /content/drive\n"
          ]
        }
      ],
      "source": [
        "from google.colab import drive \n",
        "drive.mount('/content/drive')"
      ]
    },
    {
      "cell_type": "code",
      "source": [
        "import cv2\n",
        "import matplotlib.pyplot as plt\n",
        "from google.colab import files\n",
        "path =\"/content/drive/MyDrive/1.png\"\n",
        "\n",
        "def image_to_canny():\n",
        "  img =cv2.imread(path, 0)\n",
        "  # blur the image to denoise\n",
        "  blurred_image = cv2.GaussianBlur(img, (3,3), 1.4)\n",
        "  blurred_image = cv2.GaussianBlur(blurred_image, (3,3), 1.4)\n",
        "  blurred_image = cv2.GaussianBlur(blurred_image, (9,9), 1.4)\n",
        "  blurred_image = cv2.GaussianBlur(blurred_image, (9,9), 1.4)\n",
        "  blurred_image = cv2.GaussianBlur(blurred_image, (9,9), 1.4)\n",
        "  blurred_image = cv2.GaussianBlur(blurred_image, (3,3), 1.4)\n",
        "  blurred_image = cv2.GaussianBlur(blurred_image, (3,3), 1.4)\n",
        "  blurred_image = cv2.GaussianBlur(blurred_image, (3,3), 1.4)\n",
        "#canny edge detector\n",
        "  edges = cv2.Canny(blurred_image, 10, 50)\n",
        "  edges =cv2.Canny(edges, 10,50)\n",
        "  edges =cv2.Canny(edges, 10,50)\n",
        "  edges =cv2.Canny(edges, 10,50)\n",
        "#  dilation operation  \n",
        "  edges = cv2.dilate(edges, (3,3))\n",
        "  edges = cv2.dilate(edges, (3,3))\n",
        "  edges = cv2.dilate(edges, (3,3))\n",
        "  edges = cv2.dilate(edges, (3,3))\n",
        "  plt.axis('off')\n",
        "  plt.imshow(edges, interpolation='nearest')\n",
        "  plt.savefig('{}.png'.format(1)) \n",
        "  files.download(\"{}.png\".format(1))\n",
        "  #cv2.imwrite(\"/content/drive/\"+ str(1)+\".png\", edges)\n",
        "\n",
        "image_to_canny()  \n",
        "\n"
      ],
      "metadata": {
        "colab": {
          "base_uri": "https://localhost:8080/",
          "height": 248
        },
        "id": "z9sqxArzIMLD",
        "outputId": "4adc4cdd-d639-48d2-c608-5ce84a86291e"
      },
      "execution_count": null,
      "outputs": [
        {
          "output_type": "display_data",
          "data": {
            "text/plain": [
              "<IPython.core.display.Javascript object>"
            ],
            "application/javascript": [
              "\n",
              "    async function download(id, filename, size) {\n",
              "      if (!google.colab.kernel.accessAllowed) {\n",
              "        return;\n",
              "      }\n",
              "      const div = document.createElement('div');\n",
              "      const label = document.createElement('label');\n",
              "      label.textContent = `Downloading \"${filename}\": `;\n",
              "      div.appendChild(label);\n",
              "      const progress = document.createElement('progress');\n",
              "      progress.max = size;\n",
              "      div.appendChild(progress);\n",
              "      document.body.appendChild(div);\n",
              "\n",
              "      const buffers = [];\n",
              "      let downloaded = 0;\n",
              "\n",
              "      const channel = await google.colab.kernel.comms.open(id);\n",
              "      // Send a message to notify the kernel that we're ready.\n",
              "      channel.send({})\n",
              "\n",
              "      for await (const message of channel.messages) {\n",
              "        // Send a message to notify the kernel that we're ready.\n",
              "        channel.send({})\n",
              "        if (message.buffers) {\n",
              "          for (const buffer of message.buffers) {\n",
              "            buffers.push(buffer);\n",
              "            downloaded += buffer.byteLength;\n",
              "            progress.value = downloaded;\n",
              "          }\n",
              "        }\n",
              "      }\n",
              "      const blob = new Blob(buffers, {type: 'application/binary'});\n",
              "      const a = document.createElement('a');\n",
              "      a.href = window.URL.createObjectURL(blob);\n",
              "      a.download = filename;\n",
              "      div.appendChild(a);\n",
              "      a.click();\n",
              "      div.remove();\n",
              "    }\n",
              "  "
            ]
          },
          "metadata": {}
        },
        {
          "output_type": "display_data",
          "data": {
            "text/plain": [
              "<IPython.core.display.Javascript object>"
            ],
            "application/javascript": [
              "download(\"download_9d0bfaaa-1e0b-4b20-84e2-1fc9ddd4a992\", \"1.png\", 3902)"
            ]
          },
          "metadata": {}
        },
        {
          "output_type": "display_data",
          "data": {
            "text/plain": [
              "<Figure size 432x288 with 1 Axes>"
            ],
            "image/png": "[encoded data removed]"
          },
          "metadata": {
            "needs_background": "light"
          }
        }
      ]
    }
  ]
}