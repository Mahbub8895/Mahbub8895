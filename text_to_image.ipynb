{
  "nbformat": 4,
  "nbformat_minor": 0,
  "metadata": {
    "colab": {
      "name": "text_to_image.ipynb",
      "provenance": [],
      "authorship_tag": "ABX9TyOMr2YJDNoflF0adMMh+cGn",
      "include_colab_link": true
    },
    "kernelspec": {
      "name": "python3",
      "display_name": "Python 3"
    },
    "language_info": {
      "name": "python"
    }
  },
  "cells": [
    {
      "cell_type": "markdown",
      "metadata": {
        "id": "view-in-github",
        "colab_type": "text"
      },
      "source": [
        "<a href=\"https://colab.research.google.com/github/Mahbub8895/Mahbub8895/blob/main/text_to_image.ipynb\" target=\"_parent\"><img src=\"https://colab.research.google.com/assets/colab-badge.svg\" alt=\"Open In Colab\"/></a>"
      ]
    },
    {
      "cell_type": "code",
      "source": [
        "from google.colab import drive \n",
        "drive.mount('/content/drive')"
      ],
      "metadata": {
        "colab": {
          "base_uri": "https://localhost:8080/"
        },
        "id": "Nsnxof9WBaIu",
        "outputId": "160c0bfa-06e5-44bf-c91e-5afbe376af56"
      },
      "execution_count": null,
      "outputs": [
        {
          "output_type": "stream",
          "name": "stdout",
          "text": [
            "Mounted at /content/drive\n"
          ]
        }
      ]
    },
    {
      "cell_type": "code",
      "execution_count": null,
      "metadata": {
        "id": "_9j9dA_RAKD7"
      },
      "outputs": [],
      "source": [
        "import os\n",
        "import numpy as np\n",
        "from IPython.display import Image, display\n",
        "from matplotlib import pyplot as plt\n",
        "import torch\n",
        "import cv2\n",
        "from google.colab import files\n",
        "DIR =\"/content/drive/MyDrive/Colab Notebooks/1.txt\"\n",
        "#array =[]\n",
        "def text_to_image():\n",
        "  im=np.loadtxt(DIR)\n",
        "  #array.append(im)\n",
        "  plt.axis('off')\n",
        "  plt.imshow(im, interpolation='nearest')\n",
        "  plt.savefig('{}.png'.format(1)) \n",
        "  files.download(\"{}.png\".format(1))\n",
        "\n",
        "text_to_image()  "
      ]
    },
    {
      "cell_type": "code",
      "source": [
        ""
      ],
      "metadata": {
        "id": "JxW3MtWhBZS4"
      },
      "execution_count": null,
      "outputs": []
    }
  ]
}